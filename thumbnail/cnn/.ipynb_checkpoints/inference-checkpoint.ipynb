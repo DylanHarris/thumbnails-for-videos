{
 "cells": [
  {
   "cell_type": "code",
   "execution_count": 1,
   "metadata": {
    "collapsed": true
   },
   "outputs": [],
   "source": [
    "def video_input(vid):\n",
    "    import glob, os, os.path\n",
    "    import cv2\n",
    "    delete_jpg('./video/')\n",
    "    \n",
    "    vidcap = cv2.VideoCapture(vid)\n",
    "    success,image = vidcap.read()\n",
    "    count = 0\n",
    "    \n",
    "    while success:\n",
    "        success,image = vidcap.read()\n",
    "        if count % 30 == 0:\n",
    "            cv2.imwrite(\"./video/frame%d.jpg\" % count, image)     # save frame as JPEG file\n",
    "        if cv2.waitKey(10) == 27:                     # exit if Escape is hit\n",
    "            break\n",
    "        count += 1\n",
    "    print (count)\n",
    "    for filename in os.listdir(\"./video/\"):\n",
    "        if (filename.endswith(\".jpg\")):\n",
    "            print(\"--- %s seconds ---\" % (time.time() - start_time))\n",
    "            predict(\"./video/\" + filename)\n",
    "            \n",
    "def delete_jpg(mydir):\n",
    "    import glob, os, os.path\n",
    "    filelist = glob.glob(os.path.join(mydir, \"*.jpg\"))\n",
    "    for f in filelist:\n",
    "        os.remove(f)\n",
    "        \n",
    "def predict(image_path):\n",
    "    import tensorflow as tf\n",
    "    import numpy as np\n",
    "    import os,glob,cv2\n",
    "    import sys,argparse\n",
    "    import matplotlib.pyplot as plt\n",
    "    import matplotlib.image as mpimg\n",
    "    from PIL import Image\n",
    "        \n",
    "    \n",
    "\n",
    "    # First, pass the path of the image\n",
    "    dir_path = '/var/www/html/sentimentwork/insight/cv-tricks.com/Tensorflow-tutorials/tutorial-2-image-classifier' #os.path.dirname(os.path.realpath(__file__))\n",
    "    filename = dir_path +'/' +image_path\n",
    "    image_size=256\n",
    "    num_channels=3\n",
    "    images = []\n",
    "    # Reading the image using OpenCV\n",
    "    #img = Image.open(filename)\n",
    "\n",
    "    #img2 = img.rotate(180)\n",
    "    #img2.save(filename)\n",
    "    image = cv2.imread(filename)\n",
    "    \n",
    "    # Resizing the image to our desired size and preprocessing will be done exactly as done during training\n",
    "    image = cv2.resize(image, (image_size, image_size),0,0, cv2.INTER_LINEAR)\n",
    "    images.append(image)\n",
    "    images = np.array(images, dtype=np.uint8)\n",
    "    images = images.astype('float32')\n",
    "    images = np.multiply(images, 1.0/255.0) \n",
    "    #The input to the network is of shape [None image_size image_size num_channels]. Hence we reshape.\n",
    "    x_batch = images.reshape(1, image_size,image_size,num_channels)\n",
    "\n",
    "    ## Let us restore the saved model \n",
    "    sess = tf.Session()\n",
    "    # Step-1: Recreate the network graph. At this step only graph is created.\n",
    "    saver = tf.train.import_meta_graph('./model/good-bad-1-model.meta')\n",
    "    # Step-2: Now let's load the weights saved using the restore method.\n",
    "    saver.restore(sess, tf.train.latest_checkpoint('./model/'))\n",
    "\n",
    "    # Accessing the default graph which we have restored\n",
    "    graph = tf.get_default_graph()\n",
    "\n",
    "    # Now, let's get hold of the op that we can be processed to get the output.\n",
    "    # In the original network y_pred is the tensor that is the prediction of the network\n",
    "    y_pred = graph.get_tensor_by_name(\"y_pred:0\")\n",
    "\n",
    "    ## Let's feed the images to the input placeholders\n",
    "    x= graph.get_tensor_by_name(\"x:0\") \n",
    "    y_true = graph.get_tensor_by_name(\"y_true:0\") \n",
    "    y_test_images = np.zeros((1, 2)) \n",
    "\n",
    "\n",
    "    ### Creating the feed_dict that is required to be fed to calculate y_pred \n",
    "    feed_dict_testing = {x: x_batch, y_true: y_test_images}\n",
    "    result=sess.run(y_pred, feed_dict=feed_dict_testing)\n",
    "    # result is of this format [probabiliy_of_rose probability_of_sunflower]\n",
    "    print(result)\n",
    "    print_img(image_path)\n",
    "    \n",
    "def print_img(image_path):\n",
    "    #S%pylab inline\n",
    "    import tensorflow as tf\n",
    "    import numpy as np\n",
    "    import os,glob,cv2\n",
    "    import sys,argparse\n",
    "    import matplotlib.pyplot as plt\n",
    "    import matplotlib.image as mpimg\n",
    "    img=mpimg.imread(image_path)\n",
    "    imgplot = plt.imshow(img)\n",
    "    plt.show()"
   ]
  },
  {
   "cell_type": "code",
   "execution_count": 2,
   "metadata": {},
   "outputs": [
    {
     "ename": "ImportError",
     "evalue": "No module named cv2",
     "output_type": "error",
     "traceback": [
      "\u001b[0;31m----------------------------------------------------\u001b[0m",
      "\u001b[0;31mImportError\u001b[0m        Traceback (most recent call last)",
      "\u001b[0;32m<ipython-input-2-96d29a09b66a>\u001b[0m in \u001b[0;36m<module>\u001b[0;34m()\u001b[0m\n\u001b[1;32m      2\u001b[0m \u001b[0mstart_time\u001b[0m \u001b[0;34m=\u001b[0m \u001b[0mtime\u001b[0m\u001b[0;34m.\u001b[0m\u001b[0mtime\u001b[0m\u001b[0;34m(\u001b[0m\u001b[0;34m)\u001b[0m\u001b[0;34m\u001b[0m\u001b[0m\n\u001b[1;32m      3\u001b[0m \u001b[0mvid\u001b[0m \u001b[0;34m=\u001b[0m \u001b[0;34m'./video/sample1.mp4'\u001b[0m\u001b[0;34m\u001b[0m\u001b[0m\n\u001b[0;32m----> 4\u001b[0;31m \u001b[0mvideo_input\u001b[0m\u001b[0;34m(\u001b[0m\u001b[0mvid\u001b[0m\u001b[0;34m)\u001b[0m\u001b[0;34m\u001b[0m\u001b[0m\n\u001b[0m\u001b[1;32m      5\u001b[0m \u001b[0;32mprint\u001b[0m\u001b[0;34m(\u001b[0m\u001b[0;34m\"--- %s seconds ---\"\u001b[0m \u001b[0;34m%\u001b[0m \u001b[0;34m(\u001b[0m\u001b[0mtime\u001b[0m\u001b[0;34m.\u001b[0m\u001b[0mtime\u001b[0m\u001b[0;34m(\u001b[0m\u001b[0;34m)\u001b[0m \u001b[0;34m-\u001b[0m \u001b[0mstart_time\u001b[0m\u001b[0;34m)\u001b[0m\u001b[0;34m)\u001b[0m\u001b[0;34m\u001b[0m\u001b[0m\n",
      "\u001b[0;32m<ipython-input-1-fd541d9b53c8>\u001b[0m in \u001b[0;36mvideo_input\u001b[0;34m(vid)\u001b[0m\n\u001b[1;32m      1\u001b[0m \u001b[0;32mdef\u001b[0m \u001b[0mvideo_input\u001b[0m\u001b[0;34m(\u001b[0m\u001b[0mvid\u001b[0m\u001b[0;34m)\u001b[0m\u001b[0;34m:\u001b[0m\u001b[0;34m\u001b[0m\u001b[0m\n\u001b[1;32m      2\u001b[0m     \u001b[0;32mimport\u001b[0m \u001b[0mglob\u001b[0m\u001b[0;34m,\u001b[0m \u001b[0mos\u001b[0m\u001b[0;34m,\u001b[0m \u001b[0mos\u001b[0m\u001b[0;34m.\u001b[0m\u001b[0mpath\u001b[0m\u001b[0;34m\u001b[0m\u001b[0m\n\u001b[0;32m----> 3\u001b[0;31m     \u001b[0;32mimport\u001b[0m \u001b[0mcv2\u001b[0m\u001b[0;34m\u001b[0m\u001b[0m\n\u001b[0m\u001b[1;32m      4\u001b[0m     \u001b[0mdelete_jpg\u001b[0m\u001b[0;34m(\u001b[0m\u001b[0;34m'./video/'\u001b[0m\u001b[0;34m)\u001b[0m\u001b[0;34m\u001b[0m\u001b[0m\n\u001b[1;32m      5\u001b[0m \u001b[0;34m\u001b[0m\u001b[0m\n",
      "\u001b[0;31mImportError\u001b[0m: No module named cv2"
     ]
    }
   ],
   "source": [
    "import time\n",
    "start_time = time.time()\n",
    "vid = './video/sample1.mp4'\n",
    "video_input(vid)\n",
    "print(\"--- %s seconds ---\" % (time.time() - start_time))"
   ]
  },
  {
   "cell_type": "code",
   "execution_count": 4,
   "metadata": {},
   "outputs": [
    {
     "name": "stdout",
     "output_type": "stream",
     "text": [
      "/home/paperspace/sumeet/cnn\n"
     ]
    }
   ],
   "source": [
    "import os\n",
    "cwd = os.getcwd()\n",
    "print cwd"
   ]
  },
  {
   "cell_type": "code",
   "execution_count": null,
   "metadata": {
    "collapsed": true
   },
   "outputs": [],
   "source": []
  }
 ],
 "metadata": {
  "kernelspec": {
   "display_name": "Python 2",
   "language": "python",
   "name": "python2"
  },
  "language_info": {
   "codemirror_mode": {
    "name": "ipython",
    "version": 2
   },
   "file_extension": ".py",
   "mimetype": "text/x-python",
   "name": "python",
   "nbconvert_exporter": "python",
   "pygments_lexer": "ipython2",
   "version": "2.7.6"
  }
 },
 "nbformat": 4,
 "nbformat_minor": 2
}
